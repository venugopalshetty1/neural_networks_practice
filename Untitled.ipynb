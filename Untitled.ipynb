{
 "cells": [
  {
   "cell_type": "code",
   "execution_count": 1,
   "metadata": {},
   "outputs": [
    {
     "name": "stdout",
     "output_type": "stream",
     "text": [
      "Train set size: (42000, 785)\n",
      "Test set size(28000, 784)\n"
     ]
    }
   ],
   "source": [
    "#### dependencies.  \n",
    "\n",
    "import numpy as np\n",
    "import pandas as pa\n",
    "import matplotlib.pyplot as pl\n",
    "\n",
    "\n",
    "\n",
    "#### MNIST data:\n",
    "\n",
    "#### Read the MNIST data set.\n",
    "#### MNIST ---Modified National Institue of Standards and Technology database containing the hand written images of the numbers.\n",
    "#### it contains the 60,000 training images and 10,000 test images.\n",
    "#### It is the subset of the NIST so called modified. In modified the digits are size-normalized, centered and fixed size image.\n",
    "\n",
    "train=pa.read_csv(\"./train.csv\")\n",
    "test=pa.read_csv('./test.csv')\n",
    "\n",
    "\n",
    "#### size of train and test datasets.\n",
    "\n",
    "print(f\"Train set size: {train.shape}\")\n",
    "print(f\"Test set size{test.shape}\")"
   ]
  },
  {
   "cell_type": "code",
   "execution_count": 3,
   "metadata": {},
   "outputs": [],
   "source": [
    "### seperating the target and predictor variables.\n",
    "\n",
    "X = train.iloc[:,1:]\n",
    "y=train.iloc[:,0]"
   ]
  },
  {
   "cell_type": "code",
   "execution_count": 13,
   "metadata": {
    "scrolled": true
   },
   "outputs": [
    {
     "name": "stdout",
     "output_type": "stream",
     "text": [
      "train_data_X_shape: (29400, 784)\n",
      "validation_data_X_shape: (12600, 784)\n"
     ]
    }
   ],
   "source": [
    "### spliting the train and validation sets\n",
    "from sklearn.model_selection import train_test_split\n",
    "\n",
    "\n",
    "### Split\n",
    "train_X,validation_X,train_y,validation_y=train_test_split(X,y,random_state=42,test_size=0.3)\n",
    "\n",
    "### Again lets check the shape of the train and test split.\n",
    "print(f'train_data_X_shape: {train_X.shape}')\n",
    "print(f'validation_data_X_shape: {validation_X.shape}')\n",
    "\n"
   ]
  },
  {
   "cell_type": "code",
   "execution_count": 34,
   "metadata": {},
   "outputs": [
    {
     "data": {
      "image/png": "[encoded data removed]",
      "text/plain": [
       "<matplotlib.figure.Figure at 0xf3d8130>"
      ]
     },
     "metadata": {},
     "output_type": "display_data"
    }
   ],
   "source": [
    "#### lets print the random image and see.\n",
    "\n",
    "\n",
    "index=5\n",
    "pl.imshow(train_X.iloc[5010,:].values.reshape(28,28),cmap=pl.cm.binary)\n",
    "pl.axis(\"off\")\n",
    "pl.show()\n"
   ]
  },
  {
   "cell_type": "code",
   "execution_count": null,
   "metadata": {
    "collapsed": true
   },
   "outputs": [],
   "source": [
    "#### Now simply creating the sigmoid neuron. Using logistic regression."
   ]
  }
 ],
 "metadata": {
  "kernelspec": {
   "display_name": "Python 3",
   "language": "python",
   "name": "python3"
  },
  "language_info": {
   "codemirror_mode": {
    "name": "ipython",
    "version": 3
   },
   "file_extension": ".py",
   "mimetype": "text/x-python",
   "name": "python",
   "nbconvert_exporter": "python",
   "pygments_lexer": "ipython3",
   "version": "3.6.3"
  }
 },
 "nbformat": 4,
 "nbformat_minor": 2
}
